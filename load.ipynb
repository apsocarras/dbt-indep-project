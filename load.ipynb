{
 "cells": [
  {
   "attachments": {},
   "cell_type": "markdown",
   "metadata": {},
   "source": [
    "### Qatar World Cup 2022\n",
    "#### Loading raw source csvs into Big Query\n",
    "\n",
    "[_Game Attendance_](https://www.kaggle.com/datasets/parasharmanas/qatar-2022-fifa-world-cup-attendance) <br> (`data/attendance.csv`)\n",
    "\n",
    "[_Tweets_](https://www.kaggle.com/datasets/konradb/qatar-world-cup-2022-tweets) <br> (`data/tweets.csv`)"
   ]
  },
  {
   "cell_type": "code",
   "execution_count": 17,
   "metadata": {},
   "outputs": [],
   "source": [
    "import sys\n",
    "import pandas as pd\n",
    "import logging\n",
    "from typing import List\n",
    "from google.cloud import bigquery \n",
    "from google.oauth2 import service_account\n",
    "\n",
    "### BigQuery Variable ###  \n",
    "PROJECT_NAME = \"dbt-indep-project\"\n",
    "DATASET_NAME = \"world_cup_22\"\n",
    " \n",
    "### Set Creds and Create Client ### \n",
    "KEY_PATH = \"/home/alex/.creds/dbt-indep.json\"\n",
    "credentials = service_account.Credentials.from_service_account_file(\n",
    "    KEY_PATH, scopes=[\"https://www.googleapis.com/auth/cloud-platform\"],\n",
    ")\n",
    "client = bigquery.Client(credentials=credentials, project=credentials.project_id,)\n",
    "\n",
    "### Create Dataset ### \n",
    "client.create_dataset(f\"{PROJECT_NAME}.{DATASET_NAME}\", exists_ok=True)\n",
    "\n",
    "### Load Data ### \n",
    "\n",
    "# Set Job Config \n",
    "job_config = bigquery.LoadJobConfig(\n",
    "source_format=\"CSV\",\n",
    "autodetect=True, \n",
    "create_disposition=\"CREATE_IF_NEEDED\",\n",
    "write_disposition=\"WRITE_TRUNCATE\",\n",
    "destination_table_description=\"Raw source data loaded to BigQuery\"\n",
    ")\n",
    "\n",
    "# Load Data (Tweets)\n",
    "df = pd.read_csv(\"./data/tweets.csv\")\n",
    "job = client.load_table_from_dataframe(df, f\"{PROJECT_NAME}.{DATASET_NAME}.tweets\", job_config=job_config)\n",
    "job.result()\n",
    "\n",
    "# Load Data (Attendance)\n",
    "df = pd.read_csv(\"./data/tweets.csv\")\n",
    "job = client.load_table_from_dataframe(df, f\"{PROJECT_NAME}.{DATASET_NAME}.attendance\", job_config=job_config)\n",
    "job.result()"
   ]
  }
 ],
 "metadata": {
  "kernelspec": {
   "display_name": "Python 3",
   "language": "python",
   "name": "python3"
  },
  "language_info": {
   "codemirror_mode": {
    "name": "ipython",
    "version": 3
   },
   "file_extension": ".py",
   "mimetype": "text/x-python",
   "name": "python",
   "nbconvert_exporter": "python",
   "pygments_lexer": "ipython3",
   "version": "3.10.6 (main, Nov 14 2022, 16:10:14) [GCC 11.3.0]"
  },
  "orig_nbformat": 4,
  "vscode": {
   "interpreter": {
    "hash": "916dbcbb3f70747c44a77c7bcd40155683ae19c65e1c03b4aa3499c5328201f1"
   }
  }
 },
 "nbformat": 4,
 "nbformat_minor": 2
}
