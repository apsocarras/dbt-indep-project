{
 "cells": [
  {
   "attachments": {},
   "cell_type": "markdown",
   "metadata": {},
   "source": [
    "Loading csv into Big Query as a raw source file\n",
    "\n",
    "[_Kaggle Link_](https://www.kaggle.com/datasets/parasharmanas/qatar-2022-fifa-world-cup-attendance)"
   ]
  },
  {
   "cell_type": "code",
   "execution_count": 3,
   "metadata": {},
   "outputs": [
    {
     "data": {
      "text/plain": [
       "LoadJob<project=dbt-indep-project, location=US, id=fe3be6aa-1055-4178-b612-7cb43e32cc41>"
      ]
     },
     "execution_count": 3,
     "metadata": {},
     "output_type": "execute_result"
    }
   ],
   "source": [
    "import os\n",
    "import sys\n",
    "import pandas as pd\n",
    "import logging\n",
    "from typing import List\n",
    "from google.cloud import bigquery \n",
    "from google.oauth2 import service_account\n",
    " \n",
    "DATA_DIR = \"./data\"\n",
    "DEFAULT_ATTENDANCE_FILE = os.path.join(DATA_DIR, \"attendance.csv\")\n",
    "PROJECT_NAME = \"dbt-indep-project\"\n",
    "DATASET_NAME = \"world_cup_22\"\n",
    " \n",
    "full_table_id = f\"{PROJECT_NAME}.{DATASET_NAME}.attendance\"\n",
    "\n",
    "KEY_PATH = \"/home/alex/.creds/dbt-indep.json\"\n",
    "credentials = service_account.Credentials.from_service_account_file(\n",
    "    KEY_PATH, scopes=[\"https://www.googleapis.com/auth/cloud-platform\"],\n",
    ")\n",
    "client = bigquery.Client(credentials=credentials, project=credentials.project_id,)\n",
    "\n",
    "job_config = bigquery.LoadJobConfig(\n",
    "  autodetect=True, \n",
    "  create_disposition=\"CREATE_IF_NEEDED\",\n",
    "  write_disposition=\"WRITE_TRUNCATE\",\n",
    "  destination_table_description=\"Raw source data loaded to BigQuery\"\n",
    ")\n",
    "\n",
    "client.create_dataset(f\"{PROJECT_NAME}.{DATASET_NAME}\", exists_ok=True)\n",
    "\n",
    "df = pd.read_csv(DEFAULT_ATTENDANCE_FILE)\n",
    "job = client.load_table_from_dataframe(df, full_table_id, job_config=job_config)\n",
    "job.result()\n"
   ]
  }
 ],
 "metadata": {
  "kernelspec": {
   "display_name": "Python 3",
   "language": "python",
   "name": "python3"
  },
  "language_info": {
   "codemirror_mode": {
    "name": "ipython",
    "version": 3
   },
   "file_extension": ".py",
   "mimetype": "text/x-python",
   "name": "python",
   "nbconvert_exporter": "python",
   "pygments_lexer": "ipython3",
   "version": "3.10.6"
  },
  "orig_nbformat": 4,
  "vscode": {
   "interpreter": {
    "hash": "916dbcbb3f70747c44a77c7bcd40155683ae19c65e1c03b4aa3499c5328201f1"
   }
  }
 },
 "nbformat": 4,
 "nbformat_minor": 2
}
